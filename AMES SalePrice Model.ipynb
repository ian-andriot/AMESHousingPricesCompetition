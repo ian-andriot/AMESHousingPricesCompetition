{
 "cells": [
  {
   "cell_type": "markdown",
   "metadata": {},
   "source": [
    "# Imports"
   ]
  },
  {
   "cell_type": "code",
   "execution_count": 1,
   "metadata": {
    "ExecuteTime": {
     "end_time": "2020-11-05T17:04:36.438662Z",
     "start_time": "2020-11-05T17:04:35.636077Z"
    }
   },
   "outputs": [],
   "source": [
    "import numpy as np\n",
    "import matplotlib.pyplot as plt\n",
    "import seaborn as sns\n",
    "import pandas as pd\n",
    "\n",
    "from sklearn.linear_model import ElasticNetCV, LinearRegression, LassoCV\n",
    "from sklearn.impute import SimpleImputer\n",
    "from sklearn.pipeline import Pipeline\n",
    "from sklearn.preprocessing import PolynomialFeatures, StandardScaler, PowerTransformer\n",
    "from sklearn.metrics import mean_squared_error, mean_absolute_error, mean_squared_log_error\n",
    "from sklearn.model_selection import train_test_split\n",
    "\n",
    "from sklearn.base import BaseEstimator, TransformerMixin\n",
    "\n",
    "from IPython.display import display, Markdown"
   ]
  },
  {
   "cell_type": "markdown",
   "metadata": {},
   "source": [
    "# Summary"
   ]
  },
  {
   "cell_type": "markdown",
   "metadata": {},
   "source": [
    "Under the time-contraint of 4 business days, I needed to develop a model to predict the sale price of houses in Ames, Iowa with the [this](http://jse.amstat.org/v19n3/decock/DataDocumentation.txt) data dictionary as a guide.\n",
    "\n",
    "Given the sheer number of features inclusive of ordinal and categorical features I knew I needed to find a way to filter the best features. I made extensive use of the pipeline function to be able to layer various preprocessing techniques quickly.\n",
    "\n",
    "This model ended up winning this small competition:\n",
    "*Kaggle competition [link](https://www.kaggle.com/c/ames-iowa-housing-louisville/)*"
   ]
  },
  {
   "cell_type": "markdown",
   "metadata": {},
   "source": [
    "# EDA"
   ]
  },
  {
   "cell_type": "code",
   "execution_count": 2,
   "metadata": {
    "ExecuteTime": {
     "end_time": "2020-11-05T17:04:37.304676Z",
     "start_time": "2020-11-05T17:04:37.283531Z"
    }
   },
   "outputs": [],
   "source": [
    "data = pd.read_csv('./datasets/train.csv')"
   ]
  },
  {
   "cell_type": "code",
   "execution_count": 3,
   "metadata": {
    "ExecuteTime": {
     "end_time": "2020-11-05T17:04:37.455174Z",
     "start_time": "2020-11-05T17:04:37.452175Z"
    }
   },
   "outputs": [
    {
     "name": "stdout",
     "output_type": "stream",
     "text": [
      "Index(['Id', 'PID', 'MS SubClass', 'MS Zoning', 'Lot Frontage', 'Lot Area',\n",
      "       'Street', 'Alley', 'Lot Shape', 'Land Contour', 'Utilities',\n",
      "       'Lot Config', 'Land Slope', 'Neighborhood', 'Condition 1',\n",
      "       'Condition 2', 'Bldg Type', 'House Style', 'Overall Qual',\n",
      "       'Overall Cond', 'Year Built', 'Year Remod/Add', 'Roof Style',\n",
      "       'Roof Matl', 'Exterior 1st', 'Exterior 2nd', 'Mas Vnr Type',\n",
      "       'Mas Vnr Area', 'Exter Qual', 'Exter Cond', 'Foundation', 'Bsmt Qual',\n",
      "       'Bsmt Cond', 'Bsmt Exposure', 'BsmtFin Type 1', 'BsmtFin SF 1',\n",
      "       'BsmtFin Type 2', 'BsmtFin SF 2', 'Bsmt Unf SF', 'Total Bsmt SF',\n",
      "       'Heating', 'Heating QC', 'Central Air', 'Electrical', '1st Flr SF',\n",
      "       '2nd Flr SF', 'Low Qual Fin SF', 'Gr Liv Area', 'Bsmt Full Bath',\n",
      "       'Bsmt Half Bath', 'Full Bath', 'Half Bath', 'Bedroom AbvGr',\n",
      "       'Kitchen AbvGr', 'Kitchen Qual', 'TotRms AbvGrd', 'Functional',\n",
      "       'Fireplaces', 'Fireplace Qu', 'Garage Type', 'Garage Yr Blt',\n",
      "       'Garage Finish', 'Garage Cars', 'Garage Area', 'Garage Qual',\n",
      "       'Garage Cond', 'Paved Drive', 'Wood Deck SF', 'Open Porch SF',\n",
      "       'Enclosed Porch', '3Ssn Porch', 'Screen Porch', 'Pool Area', 'Pool QC',\n",
      "       'Fence', 'Misc Feature', 'Misc Val', 'Mo Sold', 'Yr Sold', 'Sale Type',\n",
      "       'SalePrice'],\n",
      "      dtype='object')\n"
     ]
    }
   ],
   "source": [
    "print(data.columns)"
   ]
  },
  {
   "cell_type": "code",
   "execution_count": 4,
   "metadata": {
    "ExecuteTime": {
     "end_time": "2020-11-05T17:04:37.597405Z",
     "start_time": "2020-11-05T17:04:37.587428Z"
    }
   },
   "outputs": [
    {
     "name": "stdout",
     "output_type": "stream",
     "text": [
      "Count of categorical variables: 42\n",
      "Count of numerical variables:   39\n"
     ]
    }
   ],
   "source": [
    "print(f\"Count of categorical variables: {data.select_dtypes('O').count().count()}\")\n",
    "print(f\"Count of numerical variables:   {data.select_dtypes('number').count().count()}\")"
   ]
  },
  {
   "cell_type": "markdown",
   "metadata": {},
   "source": [
    "## Outlier Analysis"
   ]
  },
  {
   "cell_type": "markdown",
   "metadata": {},
   "source": [
    "Based on the data dictionary, it mentions potential for outliers with respect to square footage. I decided to take a look below."
   ]
  },
  {
   "cell_type": "code",
   "execution_count": 5,
   "metadata": {
    "ExecuteTime": {
     "end_time": "2020-11-05T17:04:38.166810Z",
     "start_time": "2020-11-05T17:04:38.051830Z"
    }
   },
   "outputs": [
    {
     "data": {
      "text/html": [
       "<div>\n",
       "<style scoped>\n",
       "    .dataframe tbody tr th:only-of-type {\n",
       "        vertical-align: middle;\n",
       "    }\n",
       "\n",
       "    .dataframe tbody tr th {\n",
       "        vertical-align: top;\n",
       "    }\n",
       "\n",
       "    .dataframe thead th {\n",
       "        text-align: right;\n",
       "    }\n",
       "</style>\n",
       "<table border=\"1\" class=\"dataframe\">\n",
       "  <thead>\n",
       "    <tr style=\"text-align: right;\">\n",
       "      <th></th>\n",
       "      <th>Id</th>\n",
       "      <th>PID</th>\n",
       "      <th>MS SubClass</th>\n",
       "      <th>MS Zoning</th>\n",
       "      <th>Lot Frontage</th>\n",
       "      <th>Lot Area</th>\n",
       "      <th>Street</th>\n",
       "      <th>Alley</th>\n",
       "      <th>Lot Shape</th>\n",
       "      <th>Land Contour</th>\n",
       "      <th>...</th>\n",
       "      <th>Screen Porch</th>\n",
       "      <th>Pool Area</th>\n",
       "      <th>Pool QC</th>\n",
       "      <th>Fence</th>\n",
       "      <th>Misc Feature</th>\n",
       "      <th>Misc Val</th>\n",
       "      <th>Mo Sold</th>\n",
       "      <th>Yr Sold</th>\n",
       "      <th>Sale Type</th>\n",
       "      <th>SalePrice</th>\n",
       "    </tr>\n",
       "  </thead>\n",
       "  <tbody>\n",
       "    <tr>\n",
       "      <th>960</th>\n",
       "      <td>1499</td>\n",
       "      <td>908154235</td>\n",
       "      <td>60</td>\n",
       "      <td>RL</td>\n",
       "      <td>313.0</td>\n",
       "      <td>63887</td>\n",
       "      <td>Pave</td>\n",
       "      <td>NaN</td>\n",
       "      <td>IR3</td>\n",
       "      <td>Bnk</td>\n",
       "      <td>...</td>\n",
       "      <td>0</td>\n",
       "      <td>480</td>\n",
       "      <td>Gd</td>\n",
       "      <td>NaN</td>\n",
       "      <td>NaN</td>\n",
       "      <td>0</td>\n",
       "      <td>1</td>\n",
       "      <td>2008</td>\n",
       "      <td>New</td>\n",
       "      <td>160000</td>\n",
       "    </tr>\n",
       "    <tr>\n",
       "      <th>1885</th>\n",
       "      <td>2181</td>\n",
       "      <td>908154195</td>\n",
       "      <td>20</td>\n",
       "      <td>RL</td>\n",
       "      <td>128.0</td>\n",
       "      <td>39290</td>\n",
       "      <td>Pave</td>\n",
       "      <td>NaN</td>\n",
       "      <td>IR1</td>\n",
       "      <td>Bnk</td>\n",
       "      <td>...</td>\n",
       "      <td>0</td>\n",
       "      <td>0</td>\n",
       "      <td>NaN</td>\n",
       "      <td>NaN</td>\n",
       "      <td>Elev</td>\n",
       "      <td>17000</td>\n",
       "      <td>10</td>\n",
       "      <td>2007</td>\n",
       "      <td>New</td>\n",
       "      <td>183850</td>\n",
       "    </tr>\n",
       "  </tbody>\n",
       "</table>\n",
       "<p>2 rows × 81 columns</p>\n",
       "</div>"
      ],
      "text/plain": [
       "        Id        PID  MS SubClass MS Zoning  Lot Frontage  Lot Area Street  \\\n",
       "960   1499  908154235           60        RL         313.0     63887   Pave   \n",
       "1885  2181  908154195           20        RL         128.0     39290   Pave   \n",
       "\n",
       "     Alley Lot Shape Land Contour  ... Screen Porch Pool Area Pool QC Fence  \\\n",
       "960    NaN       IR3          Bnk  ...            0       480      Gd   NaN   \n",
       "1885   NaN       IR1          Bnk  ...            0         0     NaN   NaN   \n",
       "\n",
       "     Misc Feature Misc Val Mo Sold Yr Sold  Sale Type  SalePrice  \n",
       "960           NaN        0       1    2008        New     160000  \n",
       "1885         Elev    17000      10    2007        New     183850  \n",
       "\n",
       "[2 rows x 81 columns]"
      ]
     },
     "execution_count": 5,
     "metadata": {},
     "output_type": "execute_result"
    },
    {
     "data": {
      "image/png": "[encoded data removed]",
      "text/plain": [
       "<Figure size 432x288 with 1 Axes>"
      ]
     },
     "metadata": {
      "needs_background": "light"
     },
     "output_type": "display_data"
    }
   ],
   "source": [
    "sns.scatterplot(data=data, x='Gr Liv Area', y='SalePrice');\n",
    "data[data['Gr Liv Area'] > 4000]"
   ]
  },
  {
   "cell_type": "code",
   "execution_count": 6,
   "metadata": {
    "ExecuteTime": {
     "end_time": "2020-11-05T17:04:38.323834Z",
     "start_time": "2020-11-05T17:04:38.211805Z"
    }
   },
   "outputs": [
    {
     "data": {
      "text/html": [
       "<div>\n",
       "<style scoped>\n",
       "    .dataframe tbody tr th:only-of-type {\n",
       "        vertical-align: middle;\n",
       "    }\n",
       "\n",
       "    .dataframe tbody tr th {\n",
       "        vertical-align: top;\n",
       "    }\n",
       "\n",
       "    .dataframe thead th {\n",
       "        text-align: right;\n",
       "    }\n",
       "</style>\n",
       "<table border=\"1\" class=\"dataframe\">\n",
       "  <thead>\n",
       "    <tr style=\"text-align: right;\">\n",
       "      <th></th>\n",
       "      <th>Id</th>\n",
       "      <th>PID</th>\n",
       "      <th>MS SubClass</th>\n",
       "      <th>MS Zoning</th>\n",
       "      <th>Lot Frontage</th>\n",
       "      <th>Lot Area</th>\n",
       "      <th>Street</th>\n",
       "      <th>Alley</th>\n",
       "      <th>Lot Shape</th>\n",
       "      <th>Land Contour</th>\n",
       "      <th>...</th>\n",
       "      <th>Screen Porch</th>\n",
       "      <th>Pool Area</th>\n",
       "      <th>Pool QC</th>\n",
       "      <th>Fence</th>\n",
       "      <th>Misc Feature</th>\n",
       "      <th>Misc Val</th>\n",
       "      <th>Mo Sold</th>\n",
       "      <th>Yr Sold</th>\n",
       "      <th>Sale Type</th>\n",
       "      <th>SalePrice</th>\n",
       "    </tr>\n",
       "  </thead>\n",
       "  <tbody>\n",
       "    <tr>\n",
       "      <th>471</th>\n",
       "      <td>2116</td>\n",
       "      <td>906426060</td>\n",
       "      <td>50</td>\n",
       "      <td>RL</td>\n",
       "      <td>NaN</td>\n",
       "      <td>159000</td>\n",
       "      <td>Pave</td>\n",
       "      <td>NaN</td>\n",
       "      <td>IR2</td>\n",
       "      <td>Low</td>\n",
       "      <td>...</td>\n",
       "      <td>0</td>\n",
       "      <td>0</td>\n",
       "      <td>NaN</td>\n",
       "      <td>NaN</td>\n",
       "      <td>Shed</td>\n",
       "      <td>500</td>\n",
       "      <td>6</td>\n",
       "      <td>2007</td>\n",
       "      <td>WD</td>\n",
       "      <td>277000</td>\n",
       "    </tr>\n",
       "    <tr>\n",
       "      <th>694</th>\n",
       "      <td>2072</td>\n",
       "      <td>905301050</td>\n",
       "      <td>20</td>\n",
       "      <td>RL</td>\n",
       "      <td>NaN</td>\n",
       "      <td>115149</td>\n",
       "      <td>Pave</td>\n",
       "      <td>NaN</td>\n",
       "      <td>IR2</td>\n",
       "      <td>Low</td>\n",
       "      <td>...</td>\n",
       "      <td>0</td>\n",
       "      <td>0</td>\n",
       "      <td>NaN</td>\n",
       "      <td>NaN</td>\n",
       "      <td>NaN</td>\n",
       "      <td>0</td>\n",
       "      <td>6</td>\n",
       "      <td>2007</td>\n",
       "      <td>WD</td>\n",
       "      <td>302000</td>\n",
       "    </tr>\n",
       "  </tbody>\n",
       "</table>\n",
       "<p>2 rows × 81 columns</p>\n",
       "</div>"
      ],
      "text/plain": [
       "       Id        PID  MS SubClass MS Zoning  Lot Frontage  Lot Area Street  \\\n",
       "471  2116  906426060           50        RL           NaN    159000   Pave   \n",
       "694  2072  905301050           20        RL           NaN    115149   Pave   \n",
       "\n",
       "    Alley Lot Shape Land Contour  ... Screen Porch Pool Area Pool QC Fence  \\\n",
       "471   NaN       IR2          Low  ...            0         0     NaN   NaN   \n",
       "694   NaN       IR2          Low  ...            0         0     NaN   NaN   \n",
       "\n",
       "    Misc Feature Misc Val Mo Sold Yr Sold  Sale Type  SalePrice  \n",
       "471         Shed      500       6    2007        WD      277000  \n",
       "694          NaN        0       6    2007        WD      302000  \n",
       "\n",
       "[2 rows x 81 columns]"
      ]
     },
     "execution_count": 6,
     "metadata": {},
     "output_type": "execute_result"
    },
    {
     "data": {
      "image/png": "[encoded data removed]",
      "text/plain": [
       "<Figure size 432x288 with 1 Axes>"
      ]
     },
     "metadata": {
      "needs_background": "light"
     },
     "output_type": "display_data"
    }
   ],
   "source": [
    "sns.scatterplot(data=data, x='Lot Area', y='SalePrice');\n",
    "data[data['Lot Area'] > 100_000]"
   ]
  },
  {
   "cell_type": "code",
   "execution_count": 7,
   "metadata": {
    "ExecuteTime": {
     "end_time": "2020-11-05T17:04:38.475829Z",
     "start_time": "2020-11-05T17:04:38.371804Z"
    }
   },
   "outputs": [
    {
     "data": {
      "text/html": [
       "<div>\n",
       "<style scoped>\n",
       "    .dataframe tbody tr th:only-of-type {\n",
       "        vertical-align: middle;\n",
       "    }\n",
       "\n",
       "    .dataframe tbody tr th {\n",
       "        vertical-align: top;\n",
       "    }\n",
       "\n",
       "    .dataframe thead th {\n",
       "        text-align: right;\n",
       "    }\n",
       "</style>\n",
       "<table border=\"1\" class=\"dataframe\">\n",
       "  <thead>\n",
       "    <tr style=\"text-align: right;\">\n",
       "      <th></th>\n",
       "      <th>Id</th>\n",
       "      <th>PID</th>\n",
       "      <th>MS SubClass</th>\n",
       "      <th>MS Zoning</th>\n",
       "      <th>Lot Frontage</th>\n",
       "      <th>Lot Area</th>\n",
       "      <th>Street</th>\n",
       "      <th>Alley</th>\n",
       "      <th>Lot Shape</th>\n",
       "      <th>Land Contour</th>\n",
       "      <th>...</th>\n",
       "      <th>Screen Porch</th>\n",
       "      <th>Pool Area</th>\n",
       "      <th>Pool QC</th>\n",
       "      <th>Fence</th>\n",
       "      <th>Misc Feature</th>\n",
       "      <th>Misc Val</th>\n",
       "      <th>Mo Sold</th>\n",
       "      <th>Yr Sold</th>\n",
       "      <th>Sale Type</th>\n",
       "      <th>SalePrice</th>\n",
       "    </tr>\n",
       "  </thead>\n",
       "  <tbody>\n",
       "    <tr>\n",
       "      <th>960</th>\n",
       "      <td>1499</td>\n",
       "      <td>908154235</td>\n",
       "      <td>60</td>\n",
       "      <td>RL</td>\n",
       "      <td>313.0</td>\n",
       "      <td>63887</td>\n",
       "      <td>Pave</td>\n",
       "      <td>NaN</td>\n",
       "      <td>IR3</td>\n",
       "      <td>Bnk</td>\n",
       "      <td>...</td>\n",
       "      <td>0</td>\n",
       "      <td>480</td>\n",
       "      <td>Gd</td>\n",
       "      <td>NaN</td>\n",
       "      <td>NaN</td>\n",
       "      <td>0</td>\n",
       "      <td>1</td>\n",
       "      <td>2008</td>\n",
       "      <td>New</td>\n",
       "      <td>160000</td>\n",
       "    </tr>\n",
       "    <tr>\n",
       "      <th>1335</th>\n",
       "      <td>1266</td>\n",
       "      <td>535427070</td>\n",
       "      <td>20</td>\n",
       "      <td>RL</td>\n",
       "      <td>313.0</td>\n",
       "      <td>27650</td>\n",
       "      <td>Pave</td>\n",
       "      <td>NaN</td>\n",
       "      <td>IR2</td>\n",
       "      <td>HLS</td>\n",
       "      <td>...</td>\n",
       "      <td>0</td>\n",
       "      <td>0</td>\n",
       "      <td>NaN</td>\n",
       "      <td>NaN</td>\n",
       "      <td>NaN</td>\n",
       "      <td>0</td>\n",
       "      <td>11</td>\n",
       "      <td>2008</td>\n",
       "      <td>WD</td>\n",
       "      <td>242000</td>\n",
       "    </tr>\n",
       "  </tbody>\n",
       "</table>\n",
       "<p>2 rows × 81 columns</p>\n",
       "</div>"
      ],
      "text/plain": [
       "        Id        PID  MS SubClass MS Zoning  Lot Frontage  Lot Area Street  \\\n",
       "960   1499  908154235           60        RL         313.0     63887   Pave   \n",
       "1335  1266  535427070           20        RL         313.0     27650   Pave   \n",
       "\n",
       "     Alley Lot Shape Land Contour  ... Screen Porch Pool Area Pool QC Fence  \\\n",
       "960    NaN       IR3          Bnk  ...            0       480      Gd   NaN   \n",
       "1335   NaN       IR2          HLS  ...            0         0     NaN   NaN   \n",
       "\n",
       "     Misc Feature Misc Val Mo Sold Yr Sold  Sale Type  SalePrice  \n",
       "960           NaN        0       1    2008        New     160000  \n",
       "1335          NaN        0      11    2008        WD      242000  \n",
       "\n",
       "[2 rows x 81 columns]"
      ]
     },
     "execution_count": 7,
     "metadata": {},
     "output_type": "execute_result"
    },
    {
     "data": {
      "image/png": "[encoded data removed]",
      "text/plain": [
       "<Figure size 432x288 with 1 Axes>"
      ]
     },
     "metadata": {
      "needs_background": "light"
     },
     "output_type": "display_data"
    }
   ],
   "source": [
    "sns.scatterplot(data=data,x='Lot Frontage', y='SalePrice');\n",
    "data[data['Lot Frontage'] > 250]"
   ]
  },
  {
   "cell_type": "markdown",
   "metadata": {},
   "source": [
    "- Looking at the above charts, as a goal for building a predictive model I decided to remove the outliers."
   ]
  },
  {
   "cell_type": "code",
   "execution_count": 8,
   "metadata": {
    "ExecuteTime": {
     "end_time": "2020-11-05T17:04:38.751610Z",
     "start_time": "2020-11-05T17:04:38.741579Z"
    }
   },
   "outputs": [],
   "source": [
    "data.drop(data[data['Gr Liv Area'] > 4_000].index, inplace=True)\n",
    "data.drop(data[data['Lot Area'] > 100_000].index, inplace=True)\n",
    "data.drop(data[data['Lot Frontage'] > 250].index, inplace=True)"
   ]
  },
  {
   "cell_type": "markdown",
   "metadata": {},
   "source": [
    "## NaN Values"
   ]
  },
  {
   "cell_type": "code",
   "execution_count": 9,
   "metadata": {
    "ExecuteTime": {
     "end_time": "2020-11-05T17:04:39.073485Z",
     "start_time": "2020-11-05T17:04:39.059459Z"
    }
   },
   "outputs": [
    {
     "data": {
      "text/plain": [
       "Pool QC           2038\n",
       "Misc Feature      1983\n",
       "Alley             1906\n",
       "Fence             1646\n",
       "Fireplace Qu      1000\n",
       "Lot Frontage       328\n",
       "Garage Yr Blt      114\n",
       "Garage Cond        114\n",
       "Garage Qual        114\n",
       "Garage Finish      114\n",
       "Garage Type        113\n",
       "Bsmt Exposure       58\n",
       "BsmtFin Type 2      56\n",
       "Bsmt Cond           55\n",
       "Bsmt Qual           55\n",
       "BsmtFin Type 1      55\n",
       "Mas Vnr Type        22\n",
       "Mas Vnr Area        22\n",
       "Bsmt Half Bath       2\n",
       "Bsmt Full Bath       2\n",
       "Garage Cars          1\n",
       "BsmtFin SF 1         1\n",
       "BsmtFin SF 2         1\n",
       "Bsmt Unf SF          1\n",
       "Garage Area          1\n",
       "Total Bsmt SF        1\n",
       "dtype: int64"
      ]
     },
     "execution_count": 9,
     "metadata": {},
     "output_type": "execute_result"
    }
   ],
   "source": [
    "data.isnull().sum()[data.isnull().sum() !=0].sort_values(ascending=False)"
   ]
  },
  {
   "cell_type": "markdown",
   "metadata": {},
   "source": [
    "## Correlation Exploration"
   ]
  },
  {
   "cell_type": "code",
   "execution_count": 10,
   "metadata": {
    "ExecuteTime": {
     "end_time": "2020-11-05T17:04:39.419639Z",
     "start_time": "2020-11-05T17:04:39.403068Z"
    }
   },
   "outputs": [
    {
     "data": {
      "text/plain": [
       "SalePrice          1.000000\n",
       "Overall Qual       0.803817\n",
       "Gr Liv Area        0.719136\n",
       "Total Bsmt SF      0.665011\n",
       "Garage Area        0.655706\n",
       "Garage Cars        0.648897\n",
       "1st Flr SF         0.647787\n",
       "Year Built         0.573492\n",
       "Year Remod/Add     0.550209\n",
       "Full Bath          0.537717\n",
       "Garage Yr Blt      0.536234\n",
       "Mas Vnr Area       0.519321\n",
       "TotRms AbvGrd      0.510635\n",
       "Fireplaces         0.472273\n",
       "BsmtFin SF 1       0.444962\n",
       "Lot Frontage       0.363566\n",
       "Lot Area           0.351738\n",
       "Open Porch SF      0.338802\n",
       "Wood Deck SF       0.327503\n",
       "Half Bath          0.285050\n",
       "Bsmt Full Bath     0.284534\n",
       "PID                0.256532\n",
       "2nd Flr SF         0.249560\n",
       "Bsmt Unf SF        0.190830\n",
       "Bedroom AbvGr      0.136869\n",
       "Enclosed Porch     0.135227\n",
       "Screen Porch       0.135198\n",
       "Kitchen AbvGr      0.125260\n",
       "Overall Cond       0.098158\n",
       "MS SubClass        0.086393\n",
       "Id                 0.052369\n",
       "3Ssn Porch         0.048949\n",
       "Bsmt Half Bath     0.047708\n",
       "Low Qual Fin SF    0.041468\n",
       "Mo Sold            0.032022\n",
       "Pool Area          0.025935\n",
       "BsmtFin SF 2       0.016737\n",
       "Yr Sold            0.014468\n",
       "Misc Val           0.010845\n",
       "Name: SalePrice, dtype: float64"
      ]
     },
     "execution_count": 10,
     "metadata": {},
     "output_type": "execute_result"
    }
   ],
   "source": [
    "y_corr = np.abs(data.corr()['SalePrice'])\n",
    "y_corr_mean = y_corr.mean()\n",
    "y_corr = pd.DataFrame(data=y_corr, columns=y_corr.index)[y_corr[y_corr > y_corr_mean].index]['SalePrice']\n",
    "\n",
    "y_corr.sort_values(ascending=False)"
   ]
  },
  {
   "cell_type": "markdown",
   "metadata": {},
   "source": [
    "# Custom Transformers"
   ]
  },
  {
   "cell_type": "markdown",
   "metadata": {},
   "source": [
    "## Ordinal Features"
   ]
  },
  {
   "cell_type": "code",
   "execution_count": 11,
   "metadata": {
    "ExecuteTime": {
     "end_time": "2020-11-05T17:04:39.917250Z",
     "start_time": "2020-11-05T17:04:39.907246Z"
    }
   },
   "outputs": [],
   "source": [
    "class CustomOrdinals(BaseEstimator,TransformerMixin):\n",
    "    \"\"\"This class takes AMES Housing Data as an input and outputs a dataframe with ordinal features mapped to numeric values\"\"\"\n",
    "    \n",
    "    def fit(self, X, y=None):\n",
    "        return self\n",
    "\n",
    "    def transform(self, X, y=None):\n",
    "        \n",
    "        X_ = X.copy()\n",
    "        \n",
    "        X_.loc[:,'Fence'] = X_['Fence'].map({'GdPrv':4, 'MnPrv':3, 'GdWo':2, 'MnWw':1, np.nan:0})\n",
    "        X_.loc[:,'Garage Finish'] = X_['Garage Finish'].map({'Fin': 3, 'RFn':2, 'Unf':1, 'NA':0, np.nan:0})\n",
    "        X_.loc[:,'Bsmt Exposure'] = X_['Bsmt Exposure'].map({'Gd':4, 'Av':3, 'Mn':2, 'No':1, 'Na':0, np.nan:0})\n",
    "\n",
    "\n",
    "        bsmt_map = {'GLQ':6, 'ALQ':5, 'BLQ':4, 'Rec':3, 'LwQ':2, 'Unf':1, np.nan: 0, 'NA':0}\n",
    "\n",
    "        X_.loc[:,'BsmtFin Type 1'] = X_['BsmtFin Type 1'].map(bsmt_map)\n",
    "        X_.loc[:,'BsmtFin Type 2'] = X_['BsmtFin Type 2'].map(bsmt_map)\n",
    "\n",
    "\n",
    "        ordinal_qual_map = {'Ex': 5, 'Gd': 4, 'TA':3, 'Fa':2, 'Po':1, 'NA':0, np.nan:0}\n",
    "        cols = ['Exter Qual', 'Exter Cond', 'Bsmt Qual','Bsmt Cond', 'Heating QC', 'Kitchen Qual', 'Fireplace Qu', 'Garage Qual', 'Garage Cond', 'Pool QC']\n",
    "\n",
    "        for i in cols:\n",
    "            X_.loc[:,i] = X[i].map(ordinal_qual_map)\n",
    "\n",
    "        X_.loc[:,'Garage Type']=X_['Garage Type'].fillna('None')\n",
    "        X_.loc[:,'Misc Feature']=X_['Misc Feature'].fillna('None')\n",
    "        X_.loc[:,'Mas Vnr Type']=X_['Mas Vnr Type'].fillna('None')\n",
    "        X_.loc[:,'Alley']=X_['Alley'].fillna('None')\n",
    "\n",
    "        return X_"
   ]
  },
  {
   "cell_type": "markdown",
   "metadata": {},
   "source": [
    "## Dummy Variables"
   ]
  },
  {
   "cell_type": "code",
   "execution_count": 12,
   "metadata": {
    "ExecuteTime": {
     "end_time": "2020-11-05T17:04:40.274162Z",
     "start_time": "2020-11-05T17:04:40.268163Z"
    }
   },
   "outputs": [],
   "source": [
    "class CustomDummies(BaseEstimator,TransformerMixin):\n",
    "    \"\"\"This class takes an input of the AMES Housing dataframe and outputs it with categorical variables encoded into dummy variables\"\"\"\n",
    "\n",
    "    def fit(self, X, y=None):\n",
    "        return self\n",
    "    \n",
    "    def transform(self, X, y=None):\n",
    "        to_drop = ['PID', 'Id']\n",
    "        \n",
    "        X_ = X.copy()       \n",
    "        X_.loc[:, 'MS SubClass'] = X_['MS SubClass'].astype(str)\n",
    "\n",
    "        X_ = pd.get_dummies(data=X_,\n",
    "                      columns=X_\n",
    "                      .drop(columns=to_drop)\n",
    "                      .dtypes[X_.dtypes=='object']\n",
    "                      .index.append(pd.Index(['Mo Sold'])),\n",
    "                      drop_first=True)\n",
    "        return X_.drop(columns=to_drop)"
   ]
  },
  {
   "cell_type": "markdown",
   "metadata": {},
   "source": [
    "## Column Staging"
   ]
  },
  {
   "cell_type": "code",
   "execution_count": 13,
   "metadata": {
    "ExecuteTime": {
     "end_time": "2020-11-05T17:04:40.881421Z",
     "start_time": "2020-11-05T17:04:40.875422Z"
    }
   },
   "outputs": [],
   "source": [
    "class ColumnStager(BaseEstimator,TransformerMixin):\n",
    "    \"\"\"This class is for fitting test data for any missing columns gotten from CustomDummies. \n",
    "    It outputs the test dataframe with unknown columns dropped and missing columns with 0s.\"\"\"\n",
    "    \n",
    "    def fit(self, X, y=None):\n",
    "        self.staging_cols = X.copy().columns\n",
    "        return self\n",
    "    \n",
    "    def transform(self, X, y=None):\n",
    "        X_ = X.copy()\n",
    "        \n",
    "        cols = [i for i in self.staging_cols if i not in X_.columns]\n",
    "        ind = X_.index\n",
    "        cols_to_drop = [i for i in X_.columns if i not in self.staging_cols]\n",
    "        \n",
    "        if len(cols) > 0:         \n",
    "            X_ = pd.concat([X_, pd.DataFrame(data = [[0]*len(cols) for i in range(len(X_))], columns=cols, index=ind)],axis=1)\n",
    "            \n",
    "        if len(cols_to_drop) > 0:           \n",
    "            X_ = X_.drop(columns=cols_to_drop)\n",
    "        \n",
    "        self.cols_added = cols\n",
    "            \n",
    "        return X_"
   ]
  },
  {
   "cell_type": "markdown",
   "metadata": {},
   "source": [
    "## Feature Selector"
   ]
  },
  {
   "cell_type": "code",
   "execution_count": 14,
   "metadata": {
    "ExecuteTime": {
     "end_time": "2020-11-05T17:04:41.586256Z",
     "start_time": "2020-11-05T17:04:41.579240Z"
    }
   },
   "outputs": [],
   "source": [
    "class SelectBestFeats(BaseEstimator, TransformerMixin):\n",
    "    \"\"\"Takes the input of a model, and dataframe and selects the features with the strongest n coefficients\"\"\"\n",
    "    \n",
    "    def __init__(self, model, n):\n",
    "        self.model = model\n",
    "        self.n = n\n",
    "        \n",
    "    def fit(self, X, y):\n",
    "        X_ = X.copy()\n",
    "        y_ = y.copy()\n",
    "        \n",
    "        self.model.fit(X_, y_)\n",
    "        \n",
    "        index = self.model.coef_\n",
    "        index = [(j, i) for (i, j) in enumerate(index)]\n",
    "        index.sort(reverse=True)\n",
    "\n",
    "        index = [i for j, i in index[:self.n]]\n",
    "        \n",
    "        self.index_cols = index\n",
    "        \n",
    "        return self\n",
    "    \n",
    "    def transform(self, X, y=None):\n",
    "        X_ = X.copy()\n",
    "        return X_[:,self.index_cols]"
   ]
  },
  {
   "cell_type": "markdown",
   "metadata": {},
   "source": [
    "# Model"
   ]
  },
  {
   "cell_type": "code",
   "execution_count": 15,
   "metadata": {
    "ExecuteTime": {
     "end_time": "2020-11-05T17:04:42.292062Z",
     "start_time": "2020-11-05T17:04:42.283655Z"
    }
   },
   "outputs": [],
   "source": [
    "X = data.drop(columns='SalePrice')\n",
    "y = np.log(data['SalePrice'])\n",
    "\n",
    "un_log = lambda x: np.power(np.e, x) # for y transformations\n",
    "\n",
    "X_train, X_test, y_train, y_test = train_test_split(X, y, random_state=42)"
   ]
  },
  {
   "cell_type": "code",
   "execution_count": 16,
   "metadata": {
    "ExecuteTime": {
     "end_time": "2020-11-05T17:04:44.489593Z",
     "start_time": "2020-11-05T17:04:42.627066Z"
    }
   },
   "outputs": [
    {
     "name": "stdout",
     "output_type": "stream",
     "text": [
      "[Pipeline] ............. (step 1 of 10) Processing ords, total=   0.0s\n",
      "[Pipeline] .......... (step 2 of 10) Processing dummies, total=   0.0s\n",
      "[Pipeline] ............ (step 3 of 10) Processing stage, total=   0.0s\n",
      "[Pipeline] ............... (step 4 of 10) Processing ss, total=   0.0s\n",
      "[Pipeline] .............. (step 5 of 10) Processing imp, total=   0.0s\n",
      "[Pipeline] ............. (step 6 of 10) Processing sbf1, total=   0.2s\n",
      "[Pipeline] ............. (step 7 of 10) Processing poly, total=   0.0s\n",
      "[Pipeline] ............. (step 8 of 10) Processing sbf2, total=   1.4s\n",
      "[Pipeline] ............ (step 9 of 10) Processing power, total=   0.1s\n",
      "[Pipeline] ........... (step 10 of 10) Processing model, total=   0.1s\n"
     ]
    },
    {
     "name": "stderr",
     "output_type": "stream",
     "text": [
      "[Parallel(n_jobs=1)]: Using backend SequentialBackend with 1 concurrent workers.\n",
      "....................................................................................................................................................................................................................................................................................................................................................................................................................................................................................................................[Parallel(n_jobs=1)]: Done   5 out of   5 | elapsed:    0.0s finished\n"
     ]
    },
    {
     "data": {
      "text/plain": [
       "Pipeline(steps=[('ords', CustomOrdinals()), ('dummies', CustomDummies()),\n",
       "                ('stage', ColumnStager()), ('ss', StandardScaler()),\n",
       "                ('imp', SimpleImputer(strategy='median')),\n",
       "                ('sbf1',\n",
       "                 SelectBestFeats(model=LassoCV(max_iter=1000000,\n",
       "                                               random_state=42),\n",
       "                                 n=40)),\n",
       "                ('poly', PolynomialFeatures()),\n",
       "                ('sbf2',\n",
       "                 SelectBestFeats(model=LassoCV(max_iter=1000000,\n",
       "                                               random_state=42),\n",
       "                                 n=22)),\n",
       "                ('power', PowerTransformer(standardize=False)),\n",
       "                ('model',\n",
       "                 ElasticNetCV(max_iter=1000000, random_state=42, verbose=1))],\n",
       "         verbose=1)"
      ]
     },
     "execution_count": 16,
     "metadata": {},
     "output_type": "execute_result"
    }
   ],
   "source": [
    "pipe = Pipeline([\n",
    "    ('ords', CustomOrdinals()),\n",
    "    ('dummies', CustomDummies()),\n",
    "    ('stage', ColumnStager()),\n",
    "    ('ss', StandardScaler()),\n",
    "    ('imp', SimpleImputer(strategy='median')),\n",
    "    ('sbf1', SelectBestFeats(LassoCV(max_iter=1_000_000, random_state=42), n=40)),\n",
    "    ('poly', PolynomialFeatures()),\n",
    "    ('sbf2', SelectBestFeats(LassoCV(max_iter=1_000_000, random_state=42), n=22)),\n",
    "    ('power', PowerTransformer(standardize=False)),\n",
    "    ('model', ElasticNetCV(max_iter=1_000_000, verbose=1, random_state=42))\n",
    "],\n",
    "verbose = 1)\n",
    "\n",
    "pipe.fit(X_train, y_train)"
   ]
  },
  {
   "cell_type": "markdown",
   "metadata": {},
   "source": [
    "## Error Analysis"
   ]
  },
  {
   "cell_type": "code",
   "execution_count": 17,
   "metadata": {
    "ExecuteTime": {
     "end_time": "2020-11-05T17:04:44.792612Z",
     "start_time": "2020-11-05T17:04:44.664594Z"
    }
   },
   "outputs": [],
   "source": [
    "md_table = '| Metric  | Train  | Test | Difference | \\n |---|---|---|---|'\n",
    "\n",
    "r2_test = pipe.score(X_test, y_test)\n",
    "r2_train = pipe.score(X_train, y_train)\n",
    "\n",
    "md_table += f'\\n | **R<sup>2</sup>** |{round(r2_train, 4)}|{round(r2_test, 4)}|{round(np.abs(r2_train-r2_test), 4)}|'"
   ]
  },
  {
   "cell_type": "code",
   "execution_count": 18,
   "metadata": {
    "ExecuteTime": {
     "end_time": "2020-11-05T17:04:45.104624Z",
     "start_time": "2020-11-05T17:04:44.964611Z"
    }
   },
   "outputs": [],
   "source": [
    "y_test_e = un_log(y_test)\n",
    "y_preds_e = un_log(pipe.predict(X_test))\n",
    "\n",
    "y_train_e = un_log(y_train)\n",
    "y_preds_train_e = un_log(pipe.predict(X_train))\n",
    "\n",
    "RMSE_test = np.sqrt(mean_squared_error(y_test_e, y_preds_e))\n",
    "RMSE_train = np.sqrt(mean_squared_error(y_train_e, y_preds_train_e))\n",
    "\n",
    "md_table += f'\\n |**RMSE**|{round(RMSE_train, 1)}|{round(RMSE_test,1)}|{round(np.abs(RMSE_train - RMSE_test),1)}|'\n",
    "\n",
    "MAE_test = mean_absolute_error(y_test_e, y_preds_e)\n",
    "MAE_train = mean_absolute_error(y_train_e, y_preds_train_e)\n",
    "\n",
    "md_table += f'\\n |**MAE**|{round(MAE_train, 1)}|{round(MAE_test,1)}|{round(np.abs(MAE_train - MAE_test),1)}|'\n",
    "\n",
    "MSLE_test = np.sqrt(mean_squared_log_error(y_test_e, y_preds_e))\n",
    "MSLE_train = np.sqrt(mean_squared_log_error(y_train_e, y_preds_train_e))\n",
    "\n",
    "md_table += f'\\n |**MSLE**|{round(MSLE_train, 6)}|{round(MSLE_test,6)}|{round(np.abs(MSLE_train - MSLE_test),6)}|'\n",
    "\n",
    "md_table += f'''\\n\\n*\\# of PolynomialFeatures tested in model*: **{len(pipe.named_steps['poly'].get_feature_names())}**'''"
   ]
  },
  {
   "cell_type": "code",
   "execution_count": 19,
   "metadata": {
    "ExecuteTime": {
     "end_time": "2020-11-05T17:04:45.291640Z",
     "start_time": "2020-11-05T17:04:45.289640Z"
    }
   },
   "outputs": [
    {
     "data": {
      "text/markdown": [
       "| Metric  | Train  | Test | Difference | \n",
       " |---|---|---|---|\n",
       " | **R<sup>2</sup>** |0.9044|0.906|0.0016|\n",
       " |**RMSE**|22225.3|21491.0|734.3|\n",
       " |**MAE**|15065.0|14883.4|181.6|\n",
       " |**MSLE**|0.127835|0.124027|0.003809|\n",
       "\n",
       "*\\# of PolynomialFeatures tested in model*: **861**"
      ],
      "text/plain": [
       "<IPython.core.display.Markdown object>"
      ]
     },
     "metadata": {},
     "output_type": "display_data"
    }
   ],
   "source": [
    "display(Markdown(md_table))"
   ]
  },
  {
   "cell_type": "code",
   "execution_count": 20,
   "metadata": {
    "ExecuteTime": {
     "end_time": "2020-11-05T17:04:45.878593Z",
     "start_time": "2020-11-05T17:04:45.486670Z"
    }
   },
   "outputs": [
    {
     "data": {
      "image/png": "[encoded data removed]",
      "text/plain": [
       "<Figure size 432x288 with 1 Axes>"
      ]
     },
     "metadata": {
      "needs_background": "light"
     },
     "output_type": "display_data"
    },
    {
     "data": {
      "image/png": "[encoded data removed]",
      "text/plain": [
       "<Figure size 432x288 with 1 Axes>"
      ]
     },
     "metadata": {
      "needs_background": "light"
     },
     "output_type": "display_data"
    },
    {
     "data": {
      "image/png": "[encoded data removed]",
      "text/plain": [
       "<Figure size 432x288 with 1 Axes>"
      ]
     },
     "metadata": {
      "needs_background": "light"
     },
     "output_type": "display_data"
    }
   ],
   "source": [
    "plt.figure();\n",
    "sns.regplot(x=y_preds_e, y=y_test_e, line_kws={'color': 'r'}, ci=None);\n",
    "plt.title('Actual v Predicted SalePrice');\n",
    "plt.xlabel('Predicted SalePrice');\n",
    "plt.ylabel('Actual SalePrice');\n",
    "\n",
    "plt.figure();\n",
    "sns.residplot(x=y_preds_e, y=y_test_e,lowess=True, line_kws={'color': 'r'});\n",
    "plt.title('Residuals of Predictions');\n",
    "plt.xlabel('Predicted SalePrice');\n",
    "plt.ylabel('Residuals of Model');\n",
    "\n",
    "plt.figure();\n",
    "plt.title('Distribution of Residuals');\n",
    "sns.distplot(np.subtract(y_test_e, y_preds_e));\n",
    "plt.xlabel('Residuals of Model');"
   ]
  },
  {
   "cell_type": "markdown",
   "metadata": {},
   "source": [
    "## Coefficients"
   ]
  },
  {
   "cell_type": "code",
   "execution_count": 21,
   "metadata": {
    "ExecuteTime": {
     "end_time": "2020-11-05T17:04:46.082437Z",
     "start_time": "2020-11-05T17:04:46.071563Z"
    }
   },
   "outputs": [
    {
     "data": {
      "text/markdown": [
       "| Feature Name  | Coefficient  | \n",
       " |---|---|\n",
       "|Gr Liv Area|0.133893|\n",
       "|Overall Qual|0.094387|\n",
       "|Year Built|0.086387|\n",
       "|Overall Cond|0.072152|\n",
       "|Bsmt Exposure^2|0.060009|\n",
       "|Lot Area|0.045892|\n",
       "|BsmtFin SF 1|0.041672|\n",
       "|Total Bsmt SF|0.037353|\n",
       "|Fireplaces|0.026028|\n",
       "|Bsmt Qual|0.021195|\n",
       "|Kitchen Qual|0.019797|\n",
       "|Garage Cars|0.018878|\n",
       "|Exter Qual|0.018762|\n",
       "|1st Flr SF|0.018328|\n",
       "|Kitchen Qual Garage Cars|0.015473|\n",
       "|Heating QC|0.015387|\n",
       "|Bsmt Full Bath|0.011609|\n",
       "|Lot Frontage|0.011464|\n",
       "|Year Remod/Add|0.005976|\n",
       "|Wood Deck SF|0.005386|\n",
       "|Foundation_PConc|0.001357|\n",
       "|Garage Yr Blt|0.0004|"
      ],
      "text/plain": [
       "<IPython.core.display.Markdown object>"
      ]
     },
     "metadata": {},
     "output_type": "display_data"
    }
   ],
   "source": [
    "cols = np.array(pipe.named_steps['stage'].staging_cols)\n",
    "\n",
    "select1 = pipe.named_steps['sbf1'].index_cols\n",
    "select2 = pipe.named_steps['sbf2'].index_cols\n",
    "poly_sel = pipe.named_steps['poly'].get_feature_names(cols[select1])\n",
    "\n",
    "selected1 = cols[select1]\n",
    "\n",
    "selected2 = np.array(poly_sel)[select2]\n",
    "\n",
    "coefs = np.array(pipe.named_steps['model'].coef_)\n",
    "\n",
    "coefs = list(zip(coefs, selected2))\n",
    "coefs.sort(reverse=True)\n",
    "\n",
    "md_table = '| Feature Name  | Coefficient  | \\n |---|---|'\n",
    "\n",
    "for (coef, col) in coefs:\n",
    "    md_table+=f'\\n|{col}|{round(coef, 6)}|'\n",
    "\n",
    "display(Markdown(md_table))"
   ]
  },
  {
   "cell_type": "markdown",
   "metadata": {},
   "source": [
    "## Test Data Submission"
   ]
  },
  {
   "cell_type": "code",
   "execution_count": 22,
   "metadata": {
    "ExecuteTime": {
     "end_time": "2020-11-05T17:04:46.758387Z",
     "start_time": "2020-11-05T17:04:46.611114Z"
    }
   },
   "outputs": [],
   "source": [
    "test_data = pd.read_csv('./datasets/test.csv')\n",
    "\n",
    "y_final = un_log(pipe.predict(test_data))\n",
    "\n",
    "index = pd.read_csv('./datasets/test.csv')\n",
    "index = index['Id'].values\n",
    "\n",
    "pd.DataFrame({'Id':index, 'SalePrice':y_final}).to_csv('./datasets/preds.csv', index=False)"
   ]
  }
 ],
 "metadata": {
  "kernelspec": {
   "display_name": "Python 3",
   "language": "python",
   "name": "python3"
  },
  "language_info": {
   "codemirror_mode": {
    "name": "ipython",
    "version": 3
   },
   "file_extension": ".py",
   "mimetype": "text/x-python",
   "name": "python",
   "nbconvert_exporter": "python",
   "pygments_lexer": "ipython3",
   "version": "3.8.3"
  },
  "toc": {
   "base_numbering": 1,
   "nav_menu": {},
   "number_sections": true,
   "sideBar": true,
   "skip_h1_title": false,
   "title_cell": "Table of Contents",
   "title_sidebar": "Contents",
   "toc_cell": false,
   "toc_position": {},
   "toc_section_display": true,
   "toc_window_display": false
  },
  "varInspector": {
   "cols": {
    "lenName": 16,
    "lenType": 16,
    "lenVar": 40
   },
   "kernels_config": {
    "python": {
     "delete_cmd_postfix": "",
     "delete_cmd_prefix": "del ",
     "library": "var_list.py",
     "varRefreshCmd": "print(var_dic_list())"
    },
    "r": {
     "delete_cmd_postfix": ") ",
     "delete_cmd_prefix": "rm(",
     "library": "var_list.r",
     "varRefreshCmd": "cat(var_dic_list()) "
    }
   },
   "types_to_exclude": [
    "module",
    "function",
    "builtin_function_or_method",
    "instance",
    "_Feature"
   ],
   "window_display": false
  }
 },
 "nbformat": 4,
 "nbformat_minor": 4
}
